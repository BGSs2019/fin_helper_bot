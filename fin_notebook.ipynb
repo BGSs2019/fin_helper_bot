{
 "cells": [
  {
   "cell_type": "markdown",
   "metadata": {},
   "source": [
    "# Анализ выгрузки финансов"
   ]
  },
  {
   "cell_type": "markdown",
   "metadata": {},
   "source": [
    "Эта тетрадка сделана, чтобы разрабатывать и тестировать функции бота"
   ]
  },
  {
   "cell_type": "markdown",
   "metadata": {},
   "source": [
    "## Загрузка данных"
   ]
  },
  {
   "cell_type": "code",
   "execution_count": null,
   "metadata": {},
   "outputs": [],
   "source": [
    "# импорт библиотек\n",
    "# работа с данными\n",
    "import numpy as np\n",
    "import pandas as pd\n",
    "\n",
    "# графика\n",
    "from matplotlib import pyplot as plt\n",
    "import seaborn as sns"
   ]
  },
  {
   "cell_type": "code",
   "execution_count": null,
   "metadata": {},
   "outputs": [],
   "source": [
    "# чтение csv\n",
    "df = pd.read_csv('fin.csv', sep=';')"
   ]
  },
  {
   "cell_type": "markdown",
   "metadata": {},
   "source": [
    "## Предобработка данных"
   ]
  },
  {
   "cell_type": "code",
   "execution_count": null,
   "metadata": {},
   "outputs": [],
   "source": [
    "# обзор данных\n",
    "df.head()"
   ]
  },
  {
   "cell_type": "code",
   "execution_count": null,
   "metadata": {},
   "outputs": [],
   "source": [
    "# анализ типов данных\n",
    "df.info()"
   ]
  },
  {
   "cell_type": "code",
   "execution_count": null,
   "metadata": {},
   "outputs": [],
   "source": [
    "# удаление лишних данных\n",
    "df = df[['Дата операции', 'Сумма операции', 'Категория', 'Описание']]\n",
    "#df.head()"
   ]
  },
  {
   "cell_type": "code",
   "execution_count": null,
   "metadata": {},
   "outputs": [],
   "source": [
    "# переименование столбцов\n",
    "df.columns = ['dt', 'sum', 'category', 'description']\n",
    "df.head()"
   ]
  },
  {
   "cell_type": "code",
   "execution_count": null,
   "metadata": {},
   "outputs": [],
   "source": [
    "# приведение типов\n",
    "df['dt'] = pd.to_datetime(df['dt'], dayfirst=True)\n",
    "df['sum'] = pd.to_numeric(df['sum'].str.replace(',', '.'))"
   ]
  },
  {
   "cell_type": "code",
   "execution_count": null,
   "metadata": {},
   "outputs": [],
   "source": [
    "# Установка индекса\n",
    "df.index = df['dt']"
   ]
  },
  {
   "cell_type": "code",
   "execution_count": null,
   "metadata": {},
   "outputs": [],
   "source": [
    "# сортировка по индексу\n",
    "df.sort_index(inplace=True)"
   ]
  },
  {
   "cell_type": "code",
   "execution_count": null,
   "metadata": {},
   "outputs": [],
   "source": [
    "# добавление столбца баланса\n",
    "df['balance'] = df['sum'].cumsum()"
   ]
  },
  {
   "cell_type": "code",
   "execution_count": null,
   "metadata": {},
   "outputs": [],
   "source": [
    "# анализ содержимого\n",
    "df.describe(include='all').T"
   ]
  },
  {
   "cell_type": "markdown",
   "metadata": {},
   "source": [
    "## Исследовательский анализ"
   ]
  },
  {
   "cell_type": "code",
   "execution_count": null,
   "metadata": {},
   "outputs": [],
   "source": [
    "# график трат\n",
    "fig, ax = plt.subplots(figsize=(12, 4))\n",
    "ax.plot(df['sum'])\n",
    "ax.set_title('Расходы за всё время')\n",
    "ax.set_xlabel('Дата')\n",
    "ax.set_ylabel('Расходы')\n",
    "plt.show()"
   ]
  },
  {
   "cell_type": "code",
   "execution_count": null,
   "metadata": {},
   "outputs": [],
   "source": [
    "# диаграмма частотности трат по категориям\n",
    "fig, ax = plt.subplots(figsize=(4, 4))\n",
    "ax.barh(df['category'].value_counts().sort_values(ascending=False).head(10).index, \n",
    "        df['category'].value_counts().sort_values(ascending=False).head(10))\n",
    "ax.set_xlabel('Количество')\n",
    "ax.set_ylabel('Категория')\n",
    "ax.invert_yaxis()\n",
    "ax.set_title('Частотность по категориям')\n",
    "plt.show()"
   ]
  },
  {
   "cell_type": "code",
   "execution_count": null,
   "metadata": {},
   "outputs": [],
   "source": [
    "# диаграмма суммы трат по категориям\n",
    "fig, ax = plt.subplots(figsize=(4, 4))\n",
    "ax.barh(df.pivot_table(index='category', values='sum', aggfunc='sum').sort_values(by='sum', ascending=True)['sum'].head(10).index, \n",
    "        df.pivot_table(index='category', values='sum', aggfunc='sum').sort_values(by='sum', ascending=True)['sum'].head(10))\n",
    "ax.set_xlabel('Сумма расходов')\n",
    "ax.set_ylabel('Категория')\n",
    "ax.invert_yaxis()\n",
    "ax.invert_xaxis()\n",
    "ax.set_title('Сумма расходов по категориям')\n",
    "plt.show()"
   ]
  },
  {
   "cell_type": "code",
   "execution_count": null,
   "metadata": {},
   "outputs": [],
   "source": [
    "# диаграмма частотности трат по описанию\n",
    "fig, ax = plt.subplots(figsize=(4, 4))\n",
    "ax.barh(df['description'].value_counts().sort_values(ascending=False).head(10).index, \n",
    "        df['description'].value_counts().sort_values(ascending=False).head(10))\n",
    "ax.set_xlabel('Количество')\n",
    "ax.set_ylabel('Описание')\n",
    "ax.invert_yaxis()\n",
    "ax.set_title('Частотность по описанию покупок')\n",
    "plt.show()"
   ]
  },
  {
   "cell_type": "code",
   "execution_count": null,
   "metadata": {},
   "outputs": [],
   "source": [
    "# диаграмма суммы трат по описанию\n",
    "fig, ax = plt.subplots(figsize=(4, 4))\n",
    "ax.barh(df.pivot_table(index='description', values='sum', aggfunc='sum').sort_values(by='sum', ascending=True)['sum'].head(10).index, \n",
    "        df.pivot_table(index='description', values='sum', aggfunc='sum').sort_values(by='sum', ascending=True)['sum'].head(10))\n",
    "ax.set_xlabel('Сумма расходов')\n",
    "ax.set_ylabel('Описание')\n",
    "ax.invert_yaxis()\n",
    "ax.invert_xaxis()\n",
    "ax.set_title('Сумма трат по описанию покупок')\n",
    "plt.show()"
   ]
  },
  {
   "cell_type": "markdown",
   "metadata": {},
   "source": [
    "## Разработка функционала бота"
   ]
  },
  {
   "cell_type": "markdown",
   "metadata": {},
   "source": [
    "**Функционал бота**\n",
    "- Отображение баланса (на подобие кумулятивной функции);\n",
    "- Сравнение годовых изменений баланса (сабплоты);\n",
    "- Сравнение месячных трат по категориям;\n",
    "- Сравнение месячных трат по частоте;\n",
    "- Оценка среднемесячных расходов;\n",
    "- Прогноз времени опустошения бюджета."
   ]
  },
  {
   "cell_type": "code",
   "execution_count": null,
   "metadata": {},
   "outputs": [],
   "source": [
    "# кумулятивное отображение баланса\n",
    "df['balance'].plot()\n"
   ]
  },
  {
   "cell_type": "code",
   "execution_count": null,
   "metadata": {},
   "outputs": [],
   "source": [
    "# годовые изменения баланса"
   ]
  },
  {
   "cell_type": "code",
   "execution_count": null,
   "metadata": {},
   "outputs": [],
   "source": [
    "# месячные траты по категориям"
   ]
  },
  {
   "cell_type": "code",
   "execution_count": null,
   "metadata": {},
   "outputs": [],
   "source": [
    "# месячные траты по частоте"
   ]
  },
  {
   "cell_type": "code",
   "execution_count": null,
   "metadata": {},
   "outputs": [],
   "source": [
    "# оценка среднемесячных расходов"
   ]
  },
  {
   "cell_type": "code",
   "execution_count": null,
   "metadata": {},
   "outputs": [],
   "source": [
    "# расчет времени опустошения бюджета"
   ]
  }
 ],
 "metadata": {
  "kernelspec": {
   "display_name": "Python 3",
   "language": "python",
   "name": "python3"
  },
  "language_info": {
   "codemirror_mode": {
    "name": "ipython",
    "version": 3
   },
   "file_extension": ".py",
   "mimetype": "text/x-python",
   "name": "python",
   "nbconvert_exporter": "python",
   "pygments_lexer": "ipython3",
   "version": "3.12.4"
  }
 },
 "nbformat": 4,
 "nbformat_minor": 2
}
